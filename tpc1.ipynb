{
 "cells": [
  {
   "cell_type": "code",
   "execution_count": null,
   "id": "93b97b32",
   "metadata": {},
   "outputs": [],
   "source": [
    "import random\n",
    "\n",
    "def menudojogo():\n",
    "        x=input(\"j=jogador ou c=computador?\")\n",
    "        jogodosfosforos (x)\n",
    "\n",
    "def jogodosfosforos (x):\n",
    "        if x == \"j\":\n",
    "                nfosforos=21\n",
    "                while(nfosforos>1):\n",
    "                        valor1 = int(input(\"escolha um valor entre 1 e 4: \"))\n",
    "                        valor2 = 5 - valor1\n",
    "                        nfosforos=nfosforos - 5\n",
    "                        print (\"o computador tira\", valor2)\n",
    "                        print (\"restam\", nfosforos, \"fosforos\")\n",
    "                        if nfosforos == 1:\n",
    "                                print (\"lamento, perdeste o jogo\")\n",
    "        elif x == \"c\":\n",
    "                nfosforos=21\n",
    "                while (nfosforos>1):\n",
    "                        valor2 = random.randrange(1,4,1)\n",
    "                        print(\"o computador tira\", valor2)\n",
    "                        nfosforos=nfosforos - valor2\n",
    "                        print (\"restam\", nfosforos, \"fosforos\")\n",
    "                        valor1 = int(input(\"escolha um valor entre 1 e 4: \"))\n",
    "                        nfosforos = nfosforos - valor1\n",
    "                        if valor1 + valor2 != 5:\n",
    "                                     c = 5 - valor1 - valor2\n",
    "                                     print (\"o computador tira\", c)\n",
    "                                     nfosforos = nfosforos - c\n",
    "                                     print (\"restam\", nfosforos, \"fosforos\")\n",
    "                                     while(nfosforos>1):\n",
    "                                             valor1 = int(input(\"escolha um valor entre 1 e 4: \"))\n",
    "                                             valor2 = 5 - valor1\n",
    "                                             nfosforos = nfosforos - valor1 - valor2\n",
    "                                             print(\"o computador tira\", valor2)\n",
    "                                             print(\"restam\", nfosforos, \"fosforos\")\n",
    "                                             if nfosforos == 1:\n",
    "                                                     print (\"lamento, perdeste o jogo\")\n",
    "                        elif nfosforos == 1:\n",
    "                                print (\"parabens, ganhaste o jogo!\")\n",
    "\n",
    "menudojogo()\n",
    "\n"
   ]
  }
 ],
 "metadata": {
  "kernelspec": {
   "display_name": "Python 3",
   "language": "python",
   "name": "python3"
  },
  "language_info": {
   "codemirror_mode": {
    "name": "ipython",
    "version": 3
   },
   "file_extension": ".py",
   "mimetype": "text/x-python",
   "name": "python",
   "nbconvert_exporter": "python",
   "pygments_lexer": "ipython3",
   "version": "3.8.8"
  }
 },
 "nbformat": 4,
 "nbformat_minor": 5
}
