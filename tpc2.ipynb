{
 "cells": [
  {
   "cell_type": "markdown",
   "id": "2babab6b",
   "metadata": {},
   "source": [
    "### __TPC2__"
   ]
  },
  {
   "cell_type": "markdown",
   "id": "405dddee",
   "metadata": {},
   "source": [
    "Data de início: 2021-10-19;\n",
    "\n",
    "Data de fim: 2021-10-20;\n",
    "\n",
    "Supervisor: Professor José Carlos Leite Ramalho;\n",
    "\n",
    "Autor: Mariana Cruz A97004;\n",
    "\n",
    "Resumo: Como o objetivo do jogo é que o computador adivinhe o número em que o jogador está a pensar, comecei por fazer o jogador pensar num número entre 0 e 100 com a função print. Como temos de usar uma pesquisa binária usei a funcao while de forma a criar um ciclo em que o computador vai dividindo o intervalo máximo (que inicialmente é 100), e declarei \"acertou\" como False para não acabar com o ciclo e a funçao continuar a correr, até chegar ao valor pensado pelo jogador Para nao obter valores com casas decimais precisamos que o intervalo máximo seja um número par, então acrescentei outra funcao de forma a transformar os numeros impares em pares, adicionando +1;"
   ]
  },
  {
   "cell_type": "code",
   "execution_count": null,
   "id": "fe42ea15",
   "metadata": {},
   "outputs": [],
   "source": [
    "def jogo():\n",
    "    print(\"Bem Vindo ao Jogo! Pensa num numero entre 0 e 100.\")\n",
    "\n",
    "    a = 50\n",
    "    intervalo_max = 100\n",
    "    acertou = False\n",
    "\n",
    "    while not acertou:\n",
    "\n",
    "        print(\"O numero é maior, menor ou igual a \", a, \"?\")\n",
    "        n = input()\n",
    "\n",
    "        intervalo_max = intervalo_max / 2\n",
    "\n",
    "        if not (intervalo_max % 2) == 0:\n",
    "            intervalo_max = intervalo_max + 1\n",
    "\n",
    "        if(n == \"maior\"):\n",
    "            a = a + (intervalo_max / 2)\n",
    "\n",
    "        elif(n == \"menor\"):\n",
    "            a = a - (intervalo_max / 2)\n",
    "\n",
    "        elif(n == \"igual\"):\n",
    "            acertou = True\n",
    "\n",
    "\n",
    "    print(\"Acertei, o seu numero é o: \", a, \"\\nTerminou o jogo!\")\n",
    "\n",
    "\n",
    "jogo()\n"
   ]
  },
  {
   "cell_type": "code",
   "execution_count": null,
   "id": "17ed6595",
   "metadata": {},
   "outputs": [],
   "source": []
  }
 ],
 "metadata": {
  "kernelspec": {
   "display_name": "Python 3",
   "language": "python",
   "name": "python3"
  },
  "language_info": {
   "codemirror_mode": {
    "name": "ipython",
    "version": 3
   },
   "file_extension": ".py",
   "mimetype": "text/x-python",
   "name": "python",
   "nbconvert_exporter": "python",
   "pygments_lexer": "ipython3",
   "version": "3.8.8"
  }
 },
 "nbformat": 4,
 "nbformat_minor": 5
}
