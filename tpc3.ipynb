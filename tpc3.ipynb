{
 "cells": [
  {
   "cell_type": "markdown",
   "id": "dc35f3d1",
   "metadata": {},
   "source": [
    "### TPC3"
   ]
  },
  {
   "cell_type": "markdown",
   "id": "1c433157",
   "metadata": {},
   "source": [
    "Identificador: TPC3\n",
    "\n",
    "Título: Ordenar uma lista com a função Bubblesort\n",
    "\n",
    "Data de início: 2021-10-23;\n",
    "\n",
    "Data de fim: 2021-10-26;\n",
    "\n",
    "Supervisor: Professor José Carlos Leite Ramalho https://www.di.uminho.pt/~jcr/;\n",
    "\n",
    "Autor: Mariana Ferreira da Cruz A97004;\n",
    "\n",
    "Resumo: \n",
    "O objetivo deste trabalho é implementar a função __Bubblesort__ para transformar uma lista desordenada numa lista ordenada.\n",
    "\n",
    "Primeiro declarei a letra \"a\" como uma posição da lista que vamos ordenar utilizando \"for a in range(len(lista)-1, 0, -1)\", em que a função range tem 3 argumentos: \n",
    "\n",
    "O primeiro argumento \"len(lista)-1\" corresponde ao valor por onde a sequência de números deve começar, onde 1 porque \"a\" não pode assumir a última posição da lista. O segundo argumento \"0\" significa que a sequência termina em 0. E o terceiro argumento \"-1\" significa que a sequência de números deve ir a diminuir sempre de 1 em 1.\n",
    "\n",
    "Seguidamente, de forma a obtermos uma lista ordenada, criei uma situação em que o valor que está na posição \"a\" é maior do que o valor que está na posição seguinte à posição \"a\", ou seja, a posição \"a+1\", então numa lista ordenada ficaria primeiro o valor da posicao \"a+1\" e depois o valor da posiçao \"a\". E também criei a situação contrária em que o valor que está na posição \"a\" é menor do que o valor que está na posição \"a+1\", e entao, ficaria primeiro o valor da posicao \"a\" e depois o valor da posiçao \"a+1\".\n"
   ]
  },
  {
   "cell_type": "code",
   "execution_count": 210,
   "id": "d4137c37",
   "metadata": {},
   "outputs": [],
   "source": [
    "def Bubblesort(lista):\n",
    "    for num in range(len(lista)-1, 0, -1):\n",
    "        for a in range(num):\n",
    "            if lista[a] > lista[a+1]:\n",
    "                lista[a] , lista[a+1] = lista[a+1] , lista[a]\n",
    "            if lista[a] < lista[a+1]:\n",
    "                lista[a] , lista[a+1] = lista[a] , lista[a+1]"
   ]
  },
  {
   "cell_type": "code",
   "execution_count": 211,
   "id": "f7ac3767",
   "metadata": {},
   "outputs": [
    {
     "name": "stdout",
     "output_type": "stream",
     "text": [
      "[1, 11, 19, 40]\n"
     ]
    }
   ],
   "source": [
    "lista = [11, 40, 1, 19]\n",
    "Bubblesort(lista)\n",
    "print(lista)"
   ]
  }
 ],
 "metadata": {
  "kernelspec": {
   "display_name": "Python 3",
   "language": "python",
   "name": "python3"
  },
  "language_info": {
   "codemirror_mode": {
    "name": "ipython",
    "version": 3
   },
   "file_extension": ".py",
   "mimetype": "text/x-python",
   "name": "python",
   "nbconvert_exporter": "python",
   "pygments_lexer": "ipython3",
   "version": "3.8.8"
  }
 },
 "nbformat": 4,
 "nbformat_minor": 5
}
